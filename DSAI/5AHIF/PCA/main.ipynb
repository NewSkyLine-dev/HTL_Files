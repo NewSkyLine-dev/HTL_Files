{
 "cells": [
  {
   "cell_type": "markdown",
   "id": "a8f25b92",
   "metadata": {},
   "source": [
    "# PCA\n",
    "\n",
    "- Fabian Oppermann\n",
    "- Petruta-Denisa Biholari\n",
    "- Philipp Hasel\n",
    "\n",
    "https://www.kaggle.com/datasets/nelgiriyewithana/most-streamed-spotify-songs-2024"
   ]
  },
  {
   "cell_type": "code",
   "execution_count": null,
   "id": "6014d0e8",
   "metadata": {},
   "outputs": [],
   "source": [
    "%pip install pandas matplotlib scikit-learn sea"
   ]
  },
  {
   "cell_type": "code",
   "execution_count": null,
   "id": "6f2bab97",
   "metadata": {},
   "outputs": [],
   "source": [
    "import pandas as pd\n",
    "\n",
    "df = pd.read_csv(\"./Most Streamed Spotify Songs 2024.csv\", encoding=\"latin1\")"
   ]
  }
 ],
 "metadata": {
  "language_info": {
   "name": "python"
  }
 },
 "nbformat": 4,
 "nbformat_minor": 5
}
