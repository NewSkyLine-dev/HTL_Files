{
 "cells": [
  {
   "cell_type": "markdown",
   "id": "b795008e",
   "metadata": {},
   "source": [
    "# Clustering\n",
    "- Fabian Oppermann\n",
    "- Philipp Hasel\n",
    "- Petruta-Denisa Biholari\n",
    "\n",
    "> Der Datensatz bezieht sich auf Kunden eines Großhändlers. Er umfasst die jährlichen Ausgaben in Geldeinheiten (m.u.) für verschiedene Produktkategorien.\n",
    "\n",
    "URL: https://www.kaggle.com/datasets/binovi/wholesale-customers-data-set\n",
    "Anzahl der Instanzen: 440\n",
    "\n",
    "---\n",
    "## Datensatzbeschreibung\n",
    "- **Channel**: Horeca (Hotel/Restaurant/Cafe or Retail channel (Nominal))\n",
    "- **Region**: Lisnon, Oporto or Other (Nominal)\n",
    "- **Fresh**: annual spending on fresh products (Continuous)\n",
    "- **Milk**: annual spending on milk products (Continuous)\n",
    "- **Grocery**: annual spendingon grocery products (Continuous)\n",
    "- **Frozen**: annual spendingon frozen products (Continuous)\n",
    "- **Detergents_Paper**: annual spending on detergents and paper products (Continuous)\n",
    "- **Delicassen**: annual spendingon and delicatessen products (Continuous)"
   ]
  },
  {
   "cell_type": "markdown",
   "id": "8718f62a",
   "metadata": {},
   "source": [
    "# 1. Datenvorschau"
   ]
  },
  {
   "cell_type": "code",
   "execution_count": 6,
   "id": "ff3be456",
   "metadata": {},
   "outputs": [
    {
     "name": "stdout",
     "output_type": "stream",
     "text": [
      "====================================================================================================\n",
      "🔎 Datenvorschau:\n",
      "====================================================================================================\n",
      "   Channel  Region  Fresh  Milk  Grocery  Frozen  Detergents_Paper  Delicassen\n",
      "0        2       3  12669  9656     7561     214              2674        1338\n",
      "1        2       3   7057  9810     9568    1762              3293        1776\n",
      "2        2       3   6353  8808     7684    2405              3516        7844\n",
      "3        1       3  13265  1196     4221    6404               507        1788\n",
      "4        2       3  22615  5410     7198    3915              1777        5185\n",
      "----------------------------------------------------------------------------------------------------\n",
      "\n",
      "📊 Statistische Übersicht:\n",
      "          Channel      Region          Fresh          Milk       Grocery  \\\n",
      "count  440.000000  440.000000     440.000000    440.000000    440.000000   \n",
      "mean     1.322727    2.543182   12000.297727   5796.265909   7951.277273   \n",
      "std      0.468052    0.774272   12647.328865   7380.377175   9503.162829   \n",
      "min      1.000000    1.000000       3.000000     55.000000      3.000000   \n",
      "25%      1.000000    2.000000    3127.750000   1533.000000   2153.000000   \n",
      "50%      1.000000    3.000000    8504.000000   3627.000000   4755.500000   \n",
      "75%      2.000000    3.000000   16933.750000   7190.250000  10655.750000   \n",
      "max      2.000000    3.000000  112151.000000  73498.000000  92780.000000   \n",
      "\n",
      "             Frozen  Detergents_Paper    Delicassen  \n",
      "count    440.000000        440.000000    440.000000  \n",
      "mean    3071.931818       2881.493182   1524.870455  \n",
      "std     4854.673333       4767.854448   2820.105937  \n",
      "min       25.000000          3.000000      3.000000  \n",
      "25%      742.250000        256.750000    408.250000  \n",
      "50%     1526.000000        816.500000    965.500000  \n",
      "75%     3554.250000       3922.000000   1820.250000  \n",
      "max    60869.000000      40827.000000  47943.000000  \n",
      "----------------------------------------------------------------------------------------------------\n",
      "\n",
      "❌ Fehlende Werte:\n",
      "Channel             0\n",
      "Region              0\n",
      "Fresh               0\n",
      "Milk                0\n",
      "Grocery             0\n",
      "Frozen              0\n",
      "Detergents_Paper    0\n",
      "Delicassen          0\n",
      "dtype: int64\n"
     ]
    }
   ],
   "source": [
    "import pandas as pd\n",
    "import numpy as np\n",
    "import matplotlib.pyplot as plt\n",
    "import seaborn as sns\n",
    "from sklearn.cluster import KMeans\n",
    "from sklearn.preprocessing import StandardScaler\n",
    "\n",
    "# Laden der Daten\n",
    "data = pd.read_csv('./Wholesale customers data.csv')\n",
    "print(\"=\"*100)\n",
    "print(\"🔎 Datenvorschau:\")\n",
    "print(\"=\"*100)\n",
    "print(data.head())\n",
    "print(\"-\"*100)\n",
    "print(\"\\n📊 Statistische Übersicht:\")\n",
    "print(data.describe())\n",
    "print(\"-\"*100)\n",
    "print(\"\\n❌ Fehlende Werte:\")\n",
    "print(data.isnull().sum())"
   ]
  },
  {
   "cell_type": "markdown",
   "id": "3576bd9a",
   "metadata": {},
   "source": [
    "### Beobachtung der Daten\n",
    "Wir können erkennen, dass keine Daten fehlen oder NULL sind. Die Datenvorbereitung ist somit nicht notwendig oder nur minimal.\n",
    "Weiteres können wir sehen, dass es 440 Einträge mit 8 Attributen gibt. Zwei der Attribute sind nominal (Channel und Region), die restlichen sind kontinuierlich."
   ]
  }
 ],
 "metadata": {
  "kernelspec": {
   "display_name": "base",
   "language": "python",
   "name": "python3"
  },
  "language_info": {
   "codemirror_mode": {
    "name": "ipython",
    "version": 3
   },
   "file_extension": ".py",
   "mimetype": "text/x-python",
   "name": "python",
   "nbconvert_exporter": "python",
   "pygments_lexer": "ipython3",
   "version": "3.12.2"
  }
 },
 "nbformat": 4,
 "nbformat_minor": 5
}
