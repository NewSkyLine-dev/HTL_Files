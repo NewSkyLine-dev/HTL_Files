{
 "cells": [
  {
   "cell_type": "markdown",
   "id": "b795008e",
   "metadata": {},
   "source": [
    "# Clustering\n",
    "- Fabian Oppermann\n",
    "- Philipp Hasel\n",
    "- Petruta-Denisa Biholari\n",
    "\n",
    "> Der Datensatz bezieht sich auf Kunden eines Großhändlers. Er umfasst die jährlichen Ausgaben in Geldeinheiten (m.u.) für verschiedene Produktkategorien.\n",
    "\n",
    "URL: https://www.kaggle.com/datasets/binovi/wholesale-customers-data-set\n",
    "Anzahl der Instanzen: 440\n",
    "\n",
    "---\n",
    "## Datensatzbeschreibung\n",
    "- **Channel**: Horeca (Hotel/Restaurant/Cafe or Retail channel (Nominal))\n",
    "- **Region**: Lisnon, Oporto or Other (Nominal)\n",
    "- **Fresh**: annual spending on fresh products (Continuous)\n",
    "- **Milk**: annual spending on milk products (Continuous)\n",
    "- **Grocery**: annual spendingon grocery products (Continuous)\n",
    "- **Frozen**: annual spendingon frozen products (Continuous)\n",
    "- **Detergents_Paper**: annual spending on detergents and paper products (Continuous)\n",
    "- **Delicassen**: annual spendingon and delicatessen products (Continuous)"
   ]
  },
  {
   "cell_type": "code",
   "execution_count": null,
   "id": "ff3be456",
   "metadata": {},
   "outputs": [],
   "source": []
  }
 ],
 "metadata": {
  "language_info": {
   "name": "python"
  }
 },
 "nbformat": 4,
 "nbformat_minor": 5
}
